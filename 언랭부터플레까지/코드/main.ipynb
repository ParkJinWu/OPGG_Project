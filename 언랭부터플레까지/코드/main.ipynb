{
  "nbformat": 4,
  "nbformat_minor": 0,
  "metadata": {
    "colab": {
      "name": "main.ipynb",
      "provenance": []
    },
    "kernelspec": {
      "name": "python3",
      "display_name": "Python 3"
    }
  },
  "cells": [
    {
      "cell_type": "code",
      "metadata": {
        "id": "i-YvmzfF4N7u"
      },
      "source": [
        "import kir as k\r\n",
        "import patience as p"
      ],
      "execution_count": 7,
      "outputs": []
    },
    {
      "cell_type": "code",
      "metadata": {
        "colab": {
          "base_uri": "https://localhost:8080/"
        },
        "id": "cqk39oOW4iOs",
        "outputId": "c614ee80-7d1c-4024-d66d-51034dbd3b09"
      },
      "source": [
        "key = \"RGAPI-f1ed2e38-fa9f-403a-8166-2c4e35729aae\"\r\n",
        "summonerName = input(\"소환사이름을 입력해주세요 : \")   #api key, 소환사이름 입력"
      ],
      "execution_count": 12,
      "outputs": [
        {
          "output_type": "stream",
          "text": [
            "소환사이름을 입력해주세요 : but꽃\n"
          ],
          "name": "stdout"
        }
      ]
    },
    {
      "cell_type": "code",
      "metadata": {
        "id": "9F3z9TVA4i0Z",
        "colab": {
          "base_uri": "https://localhost:8080/"
        },
        "outputId": "792730e5-b8f2-4423-8669-7fa34be5b18e"
      },
      "source": [
        "a = p.Patience(key,summonerName)\r\n",
        "result = a.get_result()"
      ],
      "execution_count": 13,
      "outputs": [
        {
          "output_type": "stream",
          "text": [
            "but꽃님의 끈기점수는 66.666700입니다.\n"
          ],
          "name": "stdout"
        }
      ]
    },
    {
      "cell_type": "code",
      "metadata": {
        "id": "-ZjfePTf4wnp",
        "colab": {
          "base_uri": "https://localhost:8080/"
        },
        "outputId": "3fdcd093-b609-43bb-df9b-a7e75dcf9812"
      },
      "source": [
        "b = k.KIR(key,summonerName)\r\n",
        "result += b.get_result()"
      ],
      "execution_count": 14,
      "outputs": [
        {
          "output_type": "stream",
          "text": [
            "but꽃님의 평균 킬관여율은 49.0입니다.\n",
            "but꽃님의 평균 시야점수는 55.6입니다.\n"
          ],
          "name": "stdout"
        }
      ]
    },
    {
      "cell_type": "code",
      "metadata": {
        "colab": {
          "base_uri": "https://localhost:8080/",
          "height": 35
        },
        "id": "6QdtH66W43za",
        "outputId": "fe1db4a0-b698-4730-b3ba-8a2ec4cd3476"
      },
      "source": [
        "result"
      ],
      "execution_count": 15,
      "outputs": [
        {
          "output_type": "execute_result",
          "data": {
            "application/vnd.google.colaboratory.intrinsic+json": {
              "type": "string"
            },
            "text/plain": [
              "'RPS'"
            ]
          },
          "metadata": {
            "tags": []
          },
          "execution_count": 15
        }
      ]
    }
  ]
}